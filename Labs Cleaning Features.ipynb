{
 "cells": [
  {
   "cell_type": "code",
   "execution_count": null,
   "id": "367f22b7",
   "metadata": {},
   "outputs": [],
   "source": [
    "import pandas as pd\n",
    "import numpy as np\n",
    "import matplotlib.pyplot as plt\n",
    "import seaborn as sns \n",
    "pd.set_option('display.max_columns', None)"
   ]
  },
  {
   "cell_type": "code",
   "execution_count": null,
   "id": "9019d1f1",
   "metadata": {},
   "outputs": [],
   "source": [
    "data = pd.read_csv('learningSet.csv') \n",
    "\n",
    "# I am not uploading the csv file to save space in github"
   ]
  },
  {
   "cell_type": "markdown",
   "id": "09df64df",
   "metadata": {},
   "source": [
    "## Lab | Revisiting Machine Learning Case Study"
   ]
  },
  {
   "cell_type": "code",
   "execution_count": null,
   "id": "8cab1cf7",
   "metadata": {},
   "outputs": [],
   "source": [
    "data.head()"
   ]
  },
  {
   "cell_type": "markdown",
   "id": "d15ad835",
   "metadata": {},
   "source": [
    "##### Complete the following steps on the categorical columns in the dataset:"
   ]
  },
  {
   "cell_type": "markdown",
   "id": "580c0032",
   "metadata": {},
   "source": [
    "##### 1. Check for null values in all the columns"
   ]
  },
  {
   "cell_type": "code",
   "execution_count": null,
   "id": "b11a034f",
   "metadata": {},
   "outputs": [],
   "source": [
    "# Select categoricals features"
   ]
  },
  {
   "cell_type": "code",
   "execution_count": null,
   "id": "d7e1d79a",
   "metadata": {},
   "outputs": [],
   "source": [
    "categoricals = data.select_dtypes(object)\n",
    "categoricals.head()"
   ]
  },
  {
   "cell_type": "code",
   "execution_count": null,
   "id": "fd43d3d2",
   "metadata": {},
   "outputs": [],
   "source": [
    "# Fill the empty spaces with NaN"
   ]
  },
  {
   "cell_type": "code",
   "execution_count": null,
   "id": "377c5084",
   "metadata": {},
   "outputs": [],
   "source": [
    "categoricals = categoricals.apply(lambda x: x.replace(\" \", np.NaN))"
   ]
  },
  {
   "cell_type": "code",
   "execution_count": null,
   "id": "89968225",
   "metadata": {},
   "outputs": [],
   "source": [
    "categoricals.head()"
   ]
  },
  {
   "cell_type": "code",
   "execution_count": null,
   "id": "91834da8",
   "metadata": {},
   "outputs": [],
   "source": [
    "# We will put the null values into one dataframe. \n",
    "\n",
    "nulls_percent_df = pd.DataFrame(categoricals.isna().sum()*100/len(data)).reset_index()\n",
    "nulls_percent_df\n",
    "nulls_percent_df.columns = ['column_name', 'nulls_percentage']\n",
    "nulls_percent_df"
   ]
  },
  {
   "cell_type": "code",
   "execution_count": null,
   "id": "23fb1f71",
   "metadata": {},
   "outputs": [],
   "source": [
    "# Show the nulls not equal to 0 \n",
    "nulls_percent_df[nulls_percent_df['nulls_percentage']!=0]"
   ]
  },
  {
   "cell_type": "markdown",
   "id": "eced0f62",
   "metadata": {},
   "source": [
    "##### 2. Identify columns that over 85% missing values"
   ]
  },
  {
   "cell_type": "code",
   "execution_count": null,
   "id": "a5d0cf69",
   "metadata": {},
   "outputs": [],
   "source": [
    "columns_above_threshold = nulls_percent_df[nulls_percent_df['nulls_percentage']>85]\n",
    "columns_above_threshold['column_name']"
   ]
  },
  {
   "cell_type": "markdown",
   "id": "f595a109",
   "metadata": {},
   "source": [
    "##### 3. Create drop list and drop features"
   ]
  },
  {
   "cell_type": "code",
   "execution_count": null,
   "id": "4429eb03",
   "metadata": {},
   "outputs": [],
   "source": [
    "drop_columns_list = list(columns_above_threshold['column_name'])\n",
    "print(drop_columns_list)"
   ]
  },
  {
   "cell_type": "code",
   "execution_count": null,
   "id": "12ef3b33",
   "metadata": {},
   "outputs": [],
   "source": [
    "categoricals = categoricals.drop(drop_columns_list, axis = 1)"
   ]
  },
  {
   "cell_type": "code",
   "execution_count": null,
   "id": "77f3ed7e",
   "metadata": {},
   "outputs": [],
   "source": [
    "# In addition to this, we consider according to the lab that we need to drop ZIPCODE AND 0SOURCE"
   ]
  },
  {
   "cell_type": "code",
   "execution_count": null,
   "id": "75cbcaae",
   "metadata": {},
   "outputs": [],
   "source": [
    "categoricals = categoricals.drop(['OSOURCE', 'ZIP'], axis = 1)"
   ]
  },
  {
   "cell_type": "code",
   "execution_count": null,
   "id": "22d4d670",
   "metadata": {},
   "outputs": [],
   "source": [
    "categoricals.columns"
   ]
  },
  {
   "cell_type": "markdown",
   "id": "d3e80150",
   "metadata": {},
   "source": [
    "#### 4. Reduce the number of categories in the column GENDER. The column should only have either \"M\" for males, \"F\" for females, and \"other\" for all the rest\n",
    "\n"
   ]
  },
  {
   "cell_type": "code",
   "execution_count": null,
   "id": "aaeb842a",
   "metadata": {},
   "outputs": [],
   "source": [
    "categoricals['GENDER'].value_counts(dropna=False)"
   ]
  },
  {
   "cell_type": "code",
   "execution_count": null,
   "id": "277db56e",
   "metadata": {},
   "outputs": [],
   "source": [
    "categoricals['GENDER'] = categoricals['GENDER'].fillna('F')"
   ]
  },
  {
   "cell_type": "code",
   "execution_count": null,
   "id": "bd06ccd6",
   "metadata": {},
   "outputs": [],
   "source": [
    "categoricals['GENDER'].value_counts(dropna=False)"
   ]
  },
  {
   "cell_type": "code",
   "execution_count": null,
   "id": "f40df409",
   "metadata": {},
   "outputs": [],
   "source": [
    "def clean_gender(x):\n",
    "    if x in ['U','J','C','A']:\n",
    "        return 'other'\n",
    "    else:\n",
    "        return x\n",
    "    \n",
    "categoricals['GENDER'] = list(map(clean_gender, categoricals['GENDER']))\n",
    "\n",
    "#categoricals['GENDER']=np.where(categoricals.GENDER.isin(['A','C','J','U']),'other',categoricals.GENDER)"
   ]
  },
  {
   "cell_type": "code",
   "execution_count": null,
   "id": "58285f0f",
   "metadata": {},
   "outputs": [],
   "source": [
    "categoricals['GENDER'].value_counts(dropna=False)"
   ]
  },
  {
   "cell_type": "markdown",
   "id": "b09b9ef4",
   "metadata": {},
   "source": [
    "## Lab | Feature engineering"
   ]
  },
  {
   "cell_type": "markdown",
   "id": "a57af271",
   "metadata": {},
   "source": [
    "##### 1. Check for null values in the numerical columns."
   ]
  },
  {
   "cell_type": "code",
   "execution_count": null,
   "id": "f423fecf",
   "metadata": {},
   "outputs": [],
   "source": [
    "numericals = data.select_dtypes(np.number)\n",
    "numericals.head()"
   ]
  },
  {
   "cell_type": "code",
   "execution_count": null,
   "id": "223ccc91",
   "metadata": {},
   "outputs": [],
   "source": [
    "nulls_percent_df = pd.DataFrame(numericals.isna().sum()*100/len(data)).reset_index()\n",
    "nulls_percent_df\n",
    "nulls_percent_df.columns = ['column_name', 'nulls_percentage']\n",
    "nulls_percent_df"
   ]
  },
  {
   "cell_type": "code",
   "execution_count": null,
   "id": "e5284eeb",
   "metadata": {},
   "outputs": [],
   "source": [
    "nulls_percent_df[nulls_percent_df['nulls_percentage']!=0]"
   ]
  },
  {
   "cell_type": "markdown",
   "id": "8b7c89c3",
   "metadata": {},
   "source": [
    "##### 2. Use appropriate methods to clean the columns GEOCODE2, WEALTH1, ADI, DMA,and MSA."
   ]
  },
  {
   "cell_type": "markdown",
   "id": "6b94608b",
   "metadata": {},
   "source": [
    "##### - Geocode"
   ]
  },
  {
   "cell_type": "code",
   "execution_count": null,
   "id": "d541daa6",
   "metadata": {},
   "outputs": [],
   "source": [
    "categoricals['GEOCODE2'].value_counts(dropna=False)"
   ]
  },
  {
   "cell_type": "code",
   "execution_count": null,
   "id": "ba6f9b7a",
   "metadata": {},
   "outputs": [],
   "source": [
    "# Put them into category A "
   ]
  },
  {
   "cell_type": "code",
   "execution_count": null,
   "id": "21e30cd2",
   "metadata": {},
   "outputs": [],
   "source": [
    "categoricals['GEOCODE2'] = categoricals['GEOCODE2'].fillna('A')"
   ]
  },
  {
   "cell_type": "code",
   "execution_count": null,
   "id": "a77f6ca7",
   "metadata": {},
   "outputs": [],
   "source": [
    "categoricals['GEOCODE2'].value_counts(dropna=False)"
   ]
  },
  {
   "cell_type": "markdown",
   "id": "fe2f7d80",
   "metadata": {},
   "source": [
    "##### - WEALTH1"
   ]
  },
  {
   "cell_type": "code",
   "execution_count": null,
   "id": "b392c216",
   "metadata": {},
   "outputs": [],
   "source": [
    "numericals['WEALTH1'].value_counts()"
   ]
  },
  {
   "cell_type": "code",
   "execution_count": null,
   "id": "5bc80800",
   "metadata": {},
   "outputs": [],
   "source": [
    "# We are creating a new category "
   ]
  },
  {
   "cell_type": "code",
   "execution_count": null,
   "id": "d0c8bc0b",
   "metadata": {},
   "outputs": [],
   "source": [
    "numericals['WEALTH1'] = np.where(numericals.WEALTH1.isin(['nan']),'other',numericals.WEALTH1)"
   ]
  },
  {
   "cell_type": "code",
   "execution_count": null,
   "id": "6ffbd813",
   "metadata": {},
   "outputs": [],
   "source": [
    "numericals['WEALTH1'].value_counts()"
   ]
  },
  {
   "cell_type": "code",
   "execution_count": null,
   "id": "ed272050",
   "metadata": {},
   "outputs": [],
   "source": [
    "numericals['WEALTH1'].isna().sum()"
   ]
  },
  {
   "cell_type": "markdown",
   "id": "d9e16d0a",
   "metadata": {},
   "source": [
    " ##### - ADI"
   ]
  },
  {
   "cell_type": "code",
   "execution_count": null,
   "id": "272bb33f",
   "metadata": {},
   "outputs": [],
   "source": [
    "numericals['ADI'].value_counts()"
   ]
  },
  {
   "cell_type": "code",
   "execution_count": null,
   "id": "096e7ffa",
   "metadata": {},
   "outputs": [],
   "source": [
    "numericals['ADI'].isna().sum()"
   ]
  },
  {
   "cell_type": "code",
   "execution_count": null,
   "id": "57257de7",
   "metadata": {},
   "outputs": [],
   "source": [
    "# Taking into consideration the little number od ADI in the total we are going to put in first category"
   ]
  },
  {
   "cell_type": "code",
   "execution_count": null,
   "id": "b4230c12",
   "metadata": {},
   "outputs": [],
   "source": [
    "numericals['ADI'] = numericals['ADI'].fillna('13.0')"
   ]
  },
  {
   "cell_type": "code",
   "execution_count": null,
   "id": "52432890",
   "metadata": {},
   "outputs": [],
   "source": [
    "numericals['ADI'].isna().sum()"
   ]
  },
  {
   "cell_type": "markdown",
   "id": "4a5092bc",
   "metadata": {},
   "source": [
    "##### - DMA"
   ]
  },
  {
   "cell_type": "code",
   "execution_count": null,
   "id": "8b4b8cb1",
   "metadata": {},
   "outputs": [],
   "source": [
    "numericals['DMA'].isna().sum()"
   ]
  },
  {
   "cell_type": "code",
   "execution_count": null,
   "id": "8683b367",
   "metadata": {},
   "outputs": [],
   "source": [
    "numericals['DMA'].value_counts()"
   ]
  },
  {
   "cell_type": "code",
   "execution_count": null,
   "id": "85863556",
   "metadata": {},
   "outputs": [],
   "source": [
    "numericals['DMA'] = numericals['DMA'].fillna(803.0)"
   ]
  },
  {
   "cell_type": "code",
   "execution_count": null,
   "id": "cdfd46ac",
   "metadata": {},
   "outputs": [],
   "source": [
    "numericals['DMA'].isna().sum()"
   ]
  },
  {
   "cell_type": "code",
   "execution_count": null,
   "id": "59fef945",
   "metadata": {},
   "outputs": [],
   "source": [
    "numericals['DMA'].value_counts()"
   ]
  },
  {
   "cell_type": "markdown",
   "id": "a00af929",
   "metadata": {},
   "source": [
    "##### - MSA"
   ]
  },
  {
   "cell_type": "code",
   "execution_count": null,
   "id": "d40d89c1",
   "metadata": {},
   "outputs": [],
   "source": [
    "numericals['MSA'].value_counts()"
   ]
  },
  {
   "cell_type": "code",
   "execution_count": null,
   "id": "b46974ac",
   "metadata": {},
   "outputs": [],
   "source": [
    "numericals['MSA'].isna().sum()"
   ]
  },
  {
   "cell_type": "code",
   "execution_count": null,
   "id": "b84ac408",
   "metadata": {},
   "outputs": [],
   "source": [
    "numericals['DMA'] = numericals['DMA'].fillna(0.0)"
   ]
  },
  {
   "cell_type": "code",
   "execution_count": null,
   "id": "3fdf1430",
   "metadata": {},
   "outputs": [],
   "source": [
    "numericals['DMA'].isna().sum()"
   ]
  },
  {
   "cell_type": "code",
   "execution_count": null,
   "id": "6314f981",
   "metadata": {},
   "outputs": [],
   "source": []
  },
  {
   "cell_type": "code",
   "execution_count": null,
   "id": "f95b503b",
   "metadata": {},
   "outputs": [],
   "source": []
  }
 ],
 "metadata": {
  "kernelspec": {
   "display_name": "Python 3 (ipykernel)",
   "language": "python",
   "name": "python3"
  },
  "language_info": {
   "codemirror_mode": {
    "name": "ipython",
    "version": 3
   },
   "file_extension": ".py",
   "mimetype": "text/x-python",
   "name": "python",
   "nbconvert_exporter": "python",
   "pygments_lexer": "ipython3",
   "version": "3.9.13"
  }
 },
 "nbformat": 4,
 "nbformat_minor": 5
}
